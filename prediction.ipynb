{
 "cells": [
  {
   "cell_type": "code",
   "execution_count": 1,
   "metadata": {},
   "outputs": [],
   "source": [
    "# Step 1: Import Libraries and Load the Model\n",
    "import numpy as np\n",
    "import tensorflow as tf\n",
    "from tensorflow.keras.datasets import imdb\n",
    "from tensorflow.keras.preprocessing import sequence\n",
    "from tensorflow.keras.models import load_model"
   ]
  },
  {
   "cell_type": "code",
   "execution_count": null,
   "metadata": {},
   "outputs": [],
   "source": [
    "\n",
    "# Load the IMDB dataset word index\n",
    "word_index = imdb.get_word_index()\n",
    "reverse_word_index = {value: key for key, value in word_index.items()}"
   ]
  },
  {
   "cell_type": "code",
   "execution_count": 3,
   "metadata": {},
   "outputs": [
    {
     "name": "stderr",
     "output_type": "stream",
     "text": [
      "WARNING:absl:Compiled the loaded model, but the compiled metrics have yet to be built. `model.compile_metrics` will be empty until you train or evaluate the model.\n"
     ]
    },
    {
     "data": {
      "text/html": [
       "<pre style=\"white-space:pre;overflow-x:auto;line-height:normal;font-family:Menlo,'DejaVu Sans Mono',consolas,'Courier New',monospace\"><span style=\"font-weight: bold\">Model: \"sequential_1\"</span>\n",
       "</pre>\n"
      ],
      "text/plain": [
       "\u001b[1mModel: \"sequential_1\"\u001b[0m\n"
      ]
     },
     "metadata": {},
     "output_type": "display_data"
    },
    {
     "data": {
      "text/html": [
       "<pre style=\"white-space:pre;overflow-x:auto;line-height:normal;font-family:Menlo,'DejaVu Sans Mono',consolas,'Courier New',monospace\">┏━━━━━━━━━━━━━━━━━━━━━━━━━━━━━━━━━┳━━━━━━━━━━━━━━━━━━━━━━━━┳━━━━━━━━━━━━━━━┓\n",
       "┃<span style=\"font-weight: bold\"> Layer (type)                    </span>┃<span style=\"font-weight: bold\"> Output Shape           </span>┃<span style=\"font-weight: bold\">       Param # </span>┃\n",
       "┡━━━━━━━━━━━━━━━━━━━━━━━━━━━━━━━━━╇━━━━━━━━━━━━━━━━━━━━━━━━╇━━━━━━━━━━━━━━━┩\n",
       "│ embedding_1 (<span style=\"color: #0087ff; text-decoration-color: #0087ff\">Embedding</span>)         │ (<span style=\"color: #00af00; text-decoration-color: #00af00\">32</span>, <span style=\"color: #00af00; text-decoration-color: #00af00\">500</span>, <span style=\"color: #00af00; text-decoration-color: #00af00\">128</span>)         │     <span style=\"color: #00af00; text-decoration-color: #00af00\">1,280,000</span> │\n",
       "├─────────────────────────────────┼────────────────────────┼───────────────┤\n",
       "│ simple_rnn_1 (<span style=\"color: #0087ff; text-decoration-color: #0087ff\">SimpleRNN</span>)        │ (<span style=\"color: #00af00; text-decoration-color: #00af00\">32</span>, <span style=\"color: #00af00; text-decoration-color: #00af00\">128</span>)              │        <span style=\"color: #00af00; text-decoration-color: #00af00\">32,896</span> │\n",
       "├─────────────────────────────────┼────────────────────────┼───────────────┤\n",
       "│ dense_1 (<span style=\"color: #0087ff; text-decoration-color: #0087ff\">Dense</span>)                 │ (<span style=\"color: #00af00; text-decoration-color: #00af00\">32</span>, <span style=\"color: #00af00; text-decoration-color: #00af00\">1</span>)                │           <span style=\"color: #00af00; text-decoration-color: #00af00\">129</span> │\n",
       "└─────────────────────────────────┴────────────────────────┴───────────────┘\n",
       "</pre>\n"
      ],
      "text/plain": [
       "┏━━━━━━━━━━━━━━━━━━━━━━━━━━━━━━━━━┳━━━━━━━━━━━━━━━━━━━━━━━━┳━━━━━━━━━━━━━━━┓\n",
       "┃\u001b[1m \u001b[0m\u001b[1mLayer (type)                   \u001b[0m\u001b[1m \u001b[0m┃\u001b[1m \u001b[0m\u001b[1mOutput Shape          \u001b[0m\u001b[1m \u001b[0m┃\u001b[1m \u001b[0m\u001b[1m      Param #\u001b[0m\u001b[1m \u001b[0m┃\n",
       "┡━━━━━━━━━━━━━━━━━━━━━━━━━━━━━━━━━╇━━━━━━━━━━━━━━━━━━━━━━━━╇━━━━━━━━━━━━━━━┩\n",
       "│ embedding_1 (\u001b[38;5;33mEmbedding\u001b[0m)         │ (\u001b[38;5;34m32\u001b[0m, \u001b[38;5;34m500\u001b[0m, \u001b[38;5;34m128\u001b[0m)         │     \u001b[38;5;34m1,280,000\u001b[0m │\n",
       "├─────────────────────────────────┼────────────────────────┼───────────────┤\n",
       "│ simple_rnn_1 (\u001b[38;5;33mSimpleRNN\u001b[0m)        │ (\u001b[38;5;34m32\u001b[0m, \u001b[38;5;34m128\u001b[0m)              │        \u001b[38;5;34m32,896\u001b[0m │\n",
       "├─────────────────────────────────┼────────────────────────┼───────────────┤\n",
       "│ dense_1 (\u001b[38;5;33mDense\u001b[0m)                 │ (\u001b[38;5;34m32\u001b[0m, \u001b[38;5;34m1\u001b[0m)                │           \u001b[38;5;34m129\u001b[0m │\n",
       "└─────────────────────────────────┴────────────────────────┴───────────────┘\n"
      ]
     },
     "metadata": {},
     "output_type": "display_data"
    },
    {
     "data": {
      "text/html": [
       "<pre style=\"white-space:pre;overflow-x:auto;line-height:normal;font-family:Menlo,'DejaVu Sans Mono',consolas,'Courier New',monospace\"><span style=\"font-weight: bold\"> Total params: </span><span style=\"color: #00af00; text-decoration-color: #00af00\">1,313,027</span> (5.01 MB)\n",
       "</pre>\n"
      ],
      "text/plain": [
       "\u001b[1m Total params: \u001b[0m\u001b[38;5;34m1,313,027\u001b[0m (5.01 MB)\n"
      ]
     },
     "metadata": {},
     "output_type": "display_data"
    },
    {
     "data": {
      "text/html": [
       "<pre style=\"white-space:pre;overflow-x:auto;line-height:normal;font-family:Menlo,'DejaVu Sans Mono',consolas,'Courier New',monospace\"><span style=\"font-weight: bold\"> Trainable params: </span><span style=\"color: #00af00; text-decoration-color: #00af00\">1,313,025</span> (5.01 MB)\n",
       "</pre>\n"
      ],
      "text/plain": [
       "\u001b[1m Trainable params: \u001b[0m\u001b[38;5;34m1,313,025\u001b[0m (5.01 MB)\n"
      ]
     },
     "metadata": {},
     "output_type": "display_data"
    },
    {
     "data": {
      "text/html": [
       "<pre style=\"white-space:pre;overflow-x:auto;line-height:normal;font-family:Menlo,'DejaVu Sans Mono',consolas,'Courier New',monospace\"><span style=\"font-weight: bold\"> Non-trainable params: </span><span style=\"color: #00af00; text-decoration-color: #00af00\">0</span> (0.00 B)\n",
       "</pre>\n"
      ],
      "text/plain": [
       "\u001b[1m Non-trainable params: \u001b[0m\u001b[38;5;34m0\u001b[0m (0.00 B)\n"
      ]
     },
     "metadata": {},
     "output_type": "display_data"
    },
    {
     "data": {
      "text/html": [
       "<pre style=\"white-space:pre;overflow-x:auto;line-height:normal;font-family:Menlo,'DejaVu Sans Mono',consolas,'Courier New',monospace\"><span style=\"font-weight: bold\"> Optimizer params: </span><span style=\"color: #00af00; text-decoration-color: #00af00\">2</span> (12.00 B)\n",
       "</pre>\n"
      ],
      "text/plain": [
       "\u001b[1m Optimizer params: \u001b[0m\u001b[38;5;34m2\u001b[0m (12.00 B)\n"
      ]
     },
     "metadata": {},
     "output_type": "display_data"
    }
   ],
   "source": [
    "# Load the pre-trained model with ReLU activation\n",
    "model = load_model('simple_rnn_imdb.h5')\n",
    "model.summary()"
   ]
  },
  {
   "cell_type": "code",
   "execution_count": 4,
   "metadata": {},
   "outputs": [
    {
     "data": {
      "text/plain": [
       "[array([[-0.12448094,  0.12076532,  0.34803042, ...,  0.30628636,\n",
       "         -0.17605594, -0.01867963],\n",
       "        [-0.05698418,  0.0160978 ,  0.03893432, ..., -0.03669934,\n",
       "         -0.00805672, -0.02368526],\n",
       "        [-0.00879732,  0.07071442,  0.01406873, ..., -0.00800086,\n",
       "         -0.04722919, -0.02209563],\n",
       "        ...,\n",
       "        [-0.08951936, -0.01301537, -0.08023605, ..., -0.11312382,\n",
       "          0.08063003, -0.08461983],\n",
       "        [-0.05642696,  0.05315901, -0.03842244, ..., -0.04030149,\n",
       "          0.05726616, -0.04216596],\n",
       "        [-0.09753799,  0.0564093 , -0.05965039, ..., -0.02369366,\n",
       "          0.08711767, -0.08103241]], dtype=float32),\n",
       " array([[ 0.13768475,  0.18254207,  0.16593665, ..., -0.18357971,\n",
       "          0.13731016, -0.14958988],\n",
       "        [-0.1293413 ,  0.06166556,  0.00480006, ..., -0.04101378,\n",
       "         -0.06588908, -0.12495179],\n",
       "        [ 0.00487997, -0.11661252,  0.12800789, ..., -0.17409879,\n",
       "          0.08254618, -0.08767916],\n",
       "        ...,\n",
       "        [ 0.14352083, -0.11437576, -0.05665852, ..., -0.14935969,\n",
       "          0.15797704, -0.11486852],\n",
       "        [-0.0352286 , -0.1222048 , -0.05545836, ...,  0.08439588,\n",
       "          0.11053454,  0.06726719],\n",
       "        [-0.02884565,  0.11559708,  0.15682955, ..., -0.18890277,\n",
       "          0.15260689, -0.10834318]], dtype=float32),\n",
       " array([[ 0.12177918,  0.25988036,  0.07959067, ...,  0.0875845 ,\n",
       "          0.00389143, -0.03966698],\n",
       "        [ 0.08760483,  0.03078862,  0.03106273, ...,  0.0970718 ,\n",
       "          0.00088186, -0.07933208],\n",
       "        [-0.17007384, -0.0602717 ,  0.03560881, ..., -0.11867097,\n",
       "          0.08806612,  0.02523687],\n",
       "        ...,\n",
       "        [-0.01968434, -0.14919324, -0.09488906, ..., -0.08254313,\n",
       "         -0.14242087, -0.05674918],\n",
       "        [-0.01706827, -0.01595067, -0.15896548, ..., -0.06298678,\n",
       "          0.10453836, -0.01679345],\n",
       "        [-0.05386872,  0.07264016,  0.11715695, ...,  0.00569774,\n",
       "         -0.07532802,  0.19465293]], dtype=float32),\n",
       " array([ 0.00090727, -0.00718683,  0.00291422,  0.02407114, -0.00870677,\n",
       "        -0.01580216,  0.04681094, -0.01455721, -0.01752281, -0.02975771,\n",
       "         0.01278421, -0.01419499, -0.02798933,  0.00726742,  0.02884651,\n",
       "         0.00447193, -0.02668403,  0.00754758, -0.02526329,  0.00029279,\n",
       "        -0.02603529,  0.02962562, -0.0379399 , -0.02233453,  0.02184016,\n",
       "         0.00979321,  0.02042733, -0.00528785,  0.01259353,  0.04252759,\n",
       "        -0.02784444, -0.0079492 , -0.01163309, -0.02551595,  0.00296746,\n",
       "        -0.00745141,  0.0302065 , -0.01042764, -0.00220957, -0.00345419,\n",
       "        -0.02731458,  0.01485749, -0.03144227,  0.03155015,  0.01853528,\n",
       "        -0.03314289, -0.01270163,  0.02076397,  0.0195166 , -0.00132981,\n",
       "         0.05507047,  0.00603592,  0.01933116,  0.0075846 ,  0.01127577,\n",
       "        -0.03961659, -0.02278419,  0.00852285, -0.02011633,  0.0244577 ,\n",
       "         0.03066221,  0.01451256, -0.00359887, -0.02786369,  0.01115666,\n",
       "         0.02350469,  0.01326499, -0.0145423 ,  0.00724178, -0.01396547,\n",
       "        -0.01636741, -0.01129382,  0.01179451,  0.01668835, -0.0048629 ,\n",
       "         0.01289888,  0.00584229, -0.02931576,  0.01770682, -0.0106175 ,\n",
       "        -0.01060633, -0.01688584, -0.03145378, -0.00885929,  0.01323301,\n",
       "        -0.02523592, -0.01811652, -0.01807072, -0.00786069, -0.01211547,\n",
       "         0.00731775,  0.00922961,  0.007248  , -0.04176765, -0.00454918,\n",
       "        -0.01816927,  0.02319486,  0.02009324,  0.01684246, -0.03067308,\n",
       "        -0.01210928, -0.01439371,  0.01376001, -0.01332195, -0.02995273,\n",
       "        -0.01644559, -0.00755674,  0.00330083, -0.00474845, -0.02055155,\n",
       "         0.00536557,  0.02872998, -0.01419211,  0.0080989 ,  0.01425834,\n",
       "         0.00580897, -0.00034572,  0.00049136,  0.00840866, -0.00781632,\n",
       "        -0.01540551,  0.000992  ,  0.01358101, -0.04636814, -0.03662803,\n",
       "        -0.0243956 ,  0.00700797,  0.00890141], dtype=float32),\n",
       " array([[-0.0778605 ],\n",
       "        [-0.5501296 ],\n",
       "        [-0.1808055 ],\n",
       "        [-0.1145295 ],\n",
       "        [ 0.09475576],\n",
       "        [-0.16062425],\n",
       "        [-0.25001436],\n",
       "        [ 0.07046707],\n",
       "        [-0.14140625],\n",
       "        [ 0.15862077],\n",
       "        [ 0.11359186],\n",
       "        [ 0.22045287],\n",
       "        [-0.08239949],\n",
       "        [ 0.01855481],\n",
       "        [ 0.1852826 ],\n",
       "        [-0.09720296],\n",
       "        [ 0.1938584 ],\n",
       "        [-0.17196326],\n",
       "        [ 0.1637547 ],\n",
       "        [-0.11254522],\n",
       "        [-0.20979804],\n",
       "        [ 0.21262193],\n",
       "        [ 0.06533597],\n",
       "        [-0.03503951],\n",
       "        [-0.1309647 ],\n",
       "        [-0.18479359],\n",
       "        [-0.06847677],\n",
       "        [-0.1701366 ],\n",
       "        [-0.40805995],\n",
       "        [-0.00406279],\n",
       "        [ 0.00924236],\n",
       "        [ 0.33558086],\n",
       "        [-0.1392858 ],\n",
       "        [ 0.06152452],\n",
       "        [ 0.21352799],\n",
       "        [ 0.15761474],\n",
       "        [ 0.17567858],\n",
       "        [-0.03849422],\n",
       "        [-0.21765858],\n",
       "        [ 0.1998966 ],\n",
       "        [-0.09677858],\n",
       "        [-0.0701931 ],\n",
       "        [-0.02538837],\n",
       "        [ 0.14045183],\n",
       "        [ 0.16015445],\n",
       "        [-0.495219  ],\n",
       "        [-0.07587293],\n",
       "        [ 0.15510176],\n",
       "        [-0.24525589],\n",
       "        [-1.3011563 ],\n",
       "        [ 0.14867386],\n",
       "        [ 0.19094652],\n",
       "        [ 0.13660643],\n",
       "        [-0.07821349],\n",
       "        [-0.02519812],\n",
       "        [-0.05086927],\n",
       "        [-0.11877798],\n",
       "        [ 0.2126263 ],\n",
       "        [ 0.19272247],\n",
       "        [ 0.09656666],\n",
       "        [ 0.20340565],\n",
       "        [-0.98405445],\n",
       "        [-0.25357753],\n",
       "        [ 0.11369681],\n",
       "        [-0.01570133],\n",
       "        [-0.08629825],\n",
       "        [ 0.07286642],\n",
       "        [ 0.0249198 ],\n",
       "        [ 0.16668838],\n",
       "        [-0.03538096],\n",
       "        [ 0.14985707],\n",
       "        [-0.01709984],\n",
       "        [ 0.11891701],\n",
       "        [ 0.15813087],\n",
       "        [ 0.09553386],\n",
       "        [-0.63618857],\n",
       "        [-0.10509726],\n",
       "        [ 0.07377876],\n",
       "        [ 0.16354306],\n",
       "        [ 0.07385116],\n",
       "        [ 0.1492912 ],\n",
       "        [ 0.06910484],\n",
       "        [-0.05119364],\n",
       "        [-0.00321414],\n",
       "        [ 0.08592328],\n",
       "        [-0.01948457],\n",
       "        [ 0.12747012],\n",
       "        [ 0.09427745],\n",
       "        [ 0.10405267],\n",
       "        [ 0.7737204 ],\n",
       "        [-0.12820834],\n",
       "        [-0.07668974],\n",
       "        [-0.17982802],\n",
       "        [ 0.19386272],\n",
       "        [-0.19786258],\n",
       "        [ 0.15208931],\n",
       "        [-1.8142961 ],\n",
       "        [ 0.21464355],\n",
       "        [ 0.11549081],\n",
       "        [ 0.08793619],\n",
       "        [-0.10591988],\n",
       "        [-0.16261165],\n",
       "        [-0.1307294 ],\n",
       "        [-0.43260756],\n",
       "        [-0.4060064 ],\n",
       "        [ 0.21412177],\n",
       "        [-0.230463  ],\n",
       "        [ 0.10657255],\n",
       "        [-0.10223691],\n",
       "        [-0.05380736],\n",
       "        [ 0.15994696],\n",
       "        [-0.1424488 ],\n",
       "        [-0.71218383],\n",
       "        [ 0.06045763],\n",
       "        [ 0.17198895],\n",
       "        [-0.05169295],\n",
       "        [-0.22195731],\n",
       "        [-0.09855191],\n",
       "        [-0.0057269 ],\n",
       "        [ 0.19267654],\n",
       "        [ 0.22144444],\n",
       "        [-0.1762006 ],\n",
       "        [-0.1388495 ],\n",
       "        [ 0.12700231],\n",
       "        [ 0.52687424],\n",
       "        [ 0.20235479],\n",
       "        [ 0.07552776],\n",
       "        [-0.00665452]], dtype=float32),\n",
       " array([-1.1106982], dtype=float32)]"
      ]
     },
     "execution_count": 4,
     "metadata": {},
     "output_type": "execute_result"
    }
   ],
   "source": [
    "model.get_weights()"
   ]
  },
  {
   "cell_type": "code",
   "execution_count": 5,
   "metadata": {},
   "outputs": [],
   "source": [
    "# Step 2: Helper Functions\n",
    "# Function to decode reviews\n",
    "def decode_review(encoded_review):\n",
    "    return ' '.join([reverse_word_index.get(i - 3, '?') for i in encoded_review])\n",
    "\n",
    "# Function to preprocess user input\n",
    "def preprocess_text(text):\n",
    "    words = text.lower().split()\n",
    "    encoded_review = [word_index.get(word, 2) + 3 for word in words]\n",
    "    padded_review = sequence.pad_sequences([encoded_review], maxlen=500)\n",
    "    return padded_review"
   ]
  },
  {
   "cell_type": "code",
   "execution_count": 8,
   "metadata": {},
   "outputs": [],
   "source": [
    "### Prediction  function\n",
    "\n",
    "def predict_sentiment(review):\n",
    "    preprocessed_input=preprocess_text(review)\n",
    "\n",
    "    prediction=model.predict(preprocessed_input)\n",
    "\n",
    "    sentiment = 'Positive' if prediction[0][0] > 0.5 else 'Negative'\n",
    "    \n",
    "    return sentiment, prediction[0][0]\n",
    "\n"
   ]
  },
  {
   "cell_type": "code",
   "execution_count": 12,
   "metadata": {},
   "outputs": [
    {
     "name": "stdout",
     "output_type": "stream",
     "text": [
      "\u001b[1m1/1\u001b[0m \u001b[32m━━━━━━━━━━━━━━━━━━━━\u001b[0m\u001b[37m\u001b[0m \u001b[1m0s\u001b[0m 58ms/step\n",
      "Review: This movie was awesome! The acting was great and the plot was thrilling.\n",
      "Sentiment: Negative\n",
      "Prediction Score: 0.4623657464981079\n"
     ]
    }
   ],
   "source": [
    "# Step 4: User Input and Prediction\n",
    "# Example review for prediction\n",
    "example_review = \"This movie was awesome! The acting was great and the plot was thrilling.\"\n",
    "\n",
    "sentiment,score=predict_sentiment(example_review)\n",
    "\n",
    "print(f'Review: {example_review}')\n",
    "print(f'Sentiment: {sentiment}')\n",
    "print(f'Prediction Score: {score}')"
   ]
  },
  {
   "cell_type": "code",
   "execution_count": null,
   "metadata": {},
   "outputs": [],
   "source": []
  },
  {
   "cell_type": "code",
   "execution_count": null,
   "metadata": {},
   "outputs": [],
   "source": []
  }
 ],
 "metadata": {
  "kernelspec": {
   "display_name": "venv",
   "language": "python",
   "name": "python3"
  },
  "language_info": {
   "codemirror_mode": {
    "name": "ipython",
    "version": 3
   },
   "file_extension": ".py",
   "mimetype": "text/x-python",
   "name": "python",
   "nbconvert_exporter": "python",
   "pygments_lexer": "ipython3",
   "version": "3.12.8"
  }
 },
 "nbformat": 4,
 "nbformat_minor": 2
}
