{
 "cells": [
  {
   "cell_type": "code",
   "execution_count": 16,
   "metadata": {},
   "outputs": [],
   "source": [
    "from tensorflow.keras.preprocessing.text import one_hot"
   ]
  },
  {
   "cell_type": "code",
   "execution_count": 17,
   "metadata": {},
   "outputs": [],
   "source": [
    "### sentences\n",
    "sent=[  'the glass of milk',\n",
    "     'the glass of juice',\n",
    "     'the cup of tea',\n",
    "    'I am a good boy',\n",
    "     'I am a good developer',\n",
    "     'understand the meaning of words',\n",
    "     'your videos are good',]"
   ]
  },
  {
   "cell_type": "code",
   "execution_count": 18,
   "metadata": {},
   "outputs": [
    {
     "data": {
      "text/plain": [
       "['the glass of milk',\n",
       " 'the glass of juice',\n",
       " 'the cup of tea',\n",
       " 'I am a good boy',\n",
       " 'I am a good developer',\n",
       " 'understand the meaning of words',\n",
       " 'your videos are good']"
      ]
     },
     "execution_count": 18,
     "metadata": {},
     "output_type": "execute_result"
    }
   ],
   "source": [
    "sent"
   ]
  },
  {
   "cell_type": "code",
   "execution_count": 19,
   "metadata": {},
   "outputs": [],
   "source": [
    "## Define the vocabulary size\n",
    "voc_size=10000\n"
   ]
  },
  {
   "cell_type": "code",
   "execution_count": 20,
   "metadata": {},
   "outputs": [
    {
     "data": {
      "text/plain": [
       "['the glass of milk',\n",
       " 'the glass of juice',\n",
       " 'the cup of tea',\n",
       " 'I am a good boy',\n",
       " 'I am a good developer',\n",
       " 'understand the meaning of words',\n",
       " 'your videos are good']"
      ]
     },
     "execution_count": 20,
     "metadata": {},
     "output_type": "execute_result"
    }
   ],
   "source": [
    "sent"
   ]
  },
  {
   "cell_type": "code",
   "execution_count": 21,
   "metadata": {},
   "outputs": [
    {
     "data": {
      "text/plain": [
       "[[9964, 855, 2498, 1223],\n",
       " [9964, 855, 2498, 6520],\n",
       " [9964, 7552, 2498, 8777],\n",
       " [8685, 6113, 5570, 1927, 8961],\n",
       " [8685, 6113, 5570, 1927, 7719],\n",
       " [948, 9964, 4879, 2498, 8876],\n",
       " [3204, 9628, 3365, 1927]]"
      ]
     },
     "execution_count": 21,
     "metadata": {},
     "output_type": "execute_result"
    }
   ],
   "source": [
    "### One Hot Representation\n",
    "one_hot_repr=[one_hot(words,voc_size)for words in sent]\n",
    "one_hot_repr"
   ]
  },
  {
   "cell_type": "code",
   "execution_count": 22,
   "metadata": {},
   "outputs": [],
   "source": [
    "# Word Embedding representation\n",
    "\n",
    "from tensorflow.keras.layers import Embedding\n",
    "from tensorflow.keras.utils import pad_sequences\n",
    "from tensorflow.keras.models import Sequential"
   ]
  },
  {
   "cell_type": "code",
   "execution_count": 23,
   "metadata": {},
   "outputs": [],
   "source": [
    "import numpy as np"
   ]
  },
  {
   "cell_type": "code",
   "execution_count": 24,
   "metadata": {},
   "outputs": [
    {
     "name": "stdout",
     "output_type": "stream",
     "text": [
      "[[   0    0    0    0 9964  855 2498 1223]\n",
      " [   0    0    0    0 9964  855 2498 6520]\n",
      " [   0    0    0    0 9964 7552 2498 8777]\n",
      " [   0    0    0 8685 6113 5570 1927 8961]\n",
      " [   0    0    0 8685 6113 5570 1927 7719]\n",
      " [   0    0    0  948 9964 4879 2498 8876]\n",
      " [   0    0    0    0 3204 9628 3365 1927]]\n"
     ]
    }
   ],
   "source": [
    "sent_length = 8\n",
    "embedded_docs = pad_sequences(one_hot_repr,padding='pre',maxlen=sent_length)\n",
    "print(embedded_docs)\n",
    "# pre-padding : make the sentences of the same length (pre-zeros at first)"
   ]
  },
  {
   "cell_type": "code",
   "execution_count": 25,
   "metadata": {},
   "outputs": [],
   "source": [
    "## Feature representation\n",
    "\n",
    "dim = 10"
   ]
  },
  {
   "cell_type": "code",
   "execution_count": 26,
   "metadata": {},
   "outputs": [
    {
     "name": "stderr",
     "output_type": "stream",
     "text": [
      "e:\\projects\\imdb_movie_classification_RNN\\venv\\Lib\\site-packages\\keras\\src\\layers\\core\\embedding.py:90: UserWarning: Argument `input_length` is deprecated. Just remove it.\n",
      "  warnings.warn(\n"
     ]
    }
   ],
   "source": [
    "model = Sequential()\n",
    "model.add(Embedding(voc_size,dim,input_length=sent_length))\n",
    "model.compile('adam','mse')"
   ]
  },
  {
   "cell_type": "code",
   "execution_count": 27,
   "metadata": {},
   "outputs": [
    {
     "data": {
      "text/html": [
       "<pre style=\"white-space:pre;overflow-x:auto;line-height:normal;font-family:Menlo,'DejaVu Sans Mono',consolas,'Courier New',monospace\"><span style=\"font-weight: bold\">Model: \"sequential_1\"</span>\n",
       "</pre>\n"
      ],
      "text/plain": [
       "\u001b[1mModel: \"sequential_1\"\u001b[0m\n"
      ]
     },
     "metadata": {},
     "output_type": "display_data"
    },
    {
     "data": {
      "text/html": [
       "<pre style=\"white-space:pre;overflow-x:auto;line-height:normal;font-family:Menlo,'DejaVu Sans Mono',consolas,'Courier New',monospace\">┏━━━━━━━━━━━━━━━━━━━━━━━━━━━━━━━━━┳━━━━━━━━━━━━━━━━━━━━━━━━┳━━━━━━━━━━━━━━━┓\n",
       "┃<span style=\"font-weight: bold\"> Layer (type)                    </span>┃<span style=\"font-weight: bold\"> Output Shape           </span>┃<span style=\"font-weight: bold\">       Param # </span>┃\n",
       "┡━━━━━━━━━━━━━━━━━━━━━━━━━━━━━━━━━╇━━━━━━━━━━━━━━━━━━━━━━━━╇━━━━━━━━━━━━━━━┩\n",
       "│ embedding_1 (<span style=\"color: #0087ff; text-decoration-color: #0087ff\">Embedding</span>)         │ ?                      │   <span style=\"color: #00af00; text-decoration-color: #00af00\">0</span> (unbuilt) │\n",
       "└─────────────────────────────────┴────────────────────────┴───────────────┘\n",
       "</pre>\n"
      ],
      "text/plain": [
       "┏━━━━━━━━━━━━━━━━━━━━━━━━━━━━━━━━━┳━━━━━━━━━━━━━━━━━━━━━━━━┳━━━━━━━━━━━━━━━┓\n",
       "┃\u001b[1m \u001b[0m\u001b[1mLayer (type)                   \u001b[0m\u001b[1m \u001b[0m┃\u001b[1m \u001b[0m\u001b[1mOutput Shape          \u001b[0m\u001b[1m \u001b[0m┃\u001b[1m \u001b[0m\u001b[1m      Param #\u001b[0m\u001b[1m \u001b[0m┃\n",
       "┡━━━━━━━━━━━━━━━━━━━━━━━━━━━━━━━━━╇━━━━━━━━━━━━━━━━━━━━━━━━╇━━━━━━━━━━━━━━━┩\n",
       "│ embedding_1 (\u001b[38;5;33mEmbedding\u001b[0m)         │ ?                      │   \u001b[38;5;34m0\u001b[0m (unbuilt) │\n",
       "└─────────────────────────────────┴────────────────────────┴───────────────┘\n"
      ]
     },
     "metadata": {},
     "output_type": "display_data"
    },
    {
     "data": {
      "text/html": [
       "<pre style=\"white-space:pre;overflow-x:auto;line-height:normal;font-family:Menlo,'DejaVu Sans Mono',consolas,'Courier New',monospace\"><span style=\"font-weight: bold\"> Total params: </span><span style=\"color: #00af00; text-decoration-color: #00af00\">0</span> (0.00 B)\n",
       "</pre>\n"
      ],
      "text/plain": [
       "\u001b[1m Total params: \u001b[0m\u001b[38;5;34m0\u001b[0m (0.00 B)\n"
      ]
     },
     "metadata": {},
     "output_type": "display_data"
    },
    {
     "data": {
      "text/html": [
       "<pre style=\"white-space:pre;overflow-x:auto;line-height:normal;font-family:Menlo,'DejaVu Sans Mono',consolas,'Courier New',monospace\"><span style=\"font-weight: bold\"> Trainable params: </span><span style=\"color: #00af00; text-decoration-color: #00af00\">0</span> (0.00 B)\n",
       "</pre>\n"
      ],
      "text/plain": [
       "\u001b[1m Trainable params: \u001b[0m\u001b[38;5;34m0\u001b[0m (0.00 B)\n"
      ]
     },
     "metadata": {},
     "output_type": "display_data"
    },
    {
     "data": {
      "text/html": [
       "<pre style=\"white-space:pre;overflow-x:auto;line-height:normal;font-family:Menlo,'DejaVu Sans Mono',consolas,'Courier New',monospace\"><span style=\"font-weight: bold\"> Non-trainable params: </span><span style=\"color: #00af00; text-decoration-color: #00af00\">0</span> (0.00 B)\n",
       "</pre>\n"
      ],
      "text/plain": [
       "\u001b[1m Non-trainable params: \u001b[0m\u001b[38;5;34m0\u001b[0m (0.00 B)\n"
      ]
     },
     "metadata": {},
     "output_type": "display_data"
    }
   ],
   "source": [
    "model.summary()"
   ]
  },
  {
   "cell_type": "code",
   "execution_count": 28,
   "metadata": {},
   "outputs": [
    {
     "name": "stdout",
     "output_type": "stream",
     "text": [
      "\u001b[1m1/1\u001b[0m \u001b[32m━━━━━━━━━━━━━━━━━━━━\u001b[0m\u001b[37m\u001b[0m \u001b[1m0s\u001b[0m 97ms/step\n"
     ]
    },
    {
     "data": {
      "text/plain": [
       "array([[[ 0.03373415, -0.02095252, -0.00086046,  0.03607135,\n",
       "         -0.02557394, -0.04508604, -0.01496794,  0.0170527 ,\n",
       "          0.02935232,  0.00843719],\n",
       "        [ 0.03373415, -0.02095252, -0.00086046,  0.03607135,\n",
       "         -0.02557394, -0.04508604, -0.01496794,  0.0170527 ,\n",
       "          0.02935232,  0.00843719],\n",
       "        [ 0.03373415, -0.02095252, -0.00086046,  0.03607135,\n",
       "         -0.02557394, -0.04508604, -0.01496794,  0.0170527 ,\n",
       "          0.02935232,  0.00843719],\n",
       "        [ 0.03373415, -0.02095252, -0.00086046,  0.03607135,\n",
       "         -0.02557394, -0.04508604, -0.01496794,  0.0170527 ,\n",
       "          0.02935232,  0.00843719],\n",
       "        [ 0.00684081, -0.02513783, -0.03628725, -0.03973955,\n",
       "         -0.02462511, -0.030447  ,  0.02541978,  0.03978659,\n",
       "         -0.04555942, -0.04340074],\n",
       "        [-0.01212946,  0.02105219,  0.04582388, -0.00628044,\n",
       "          0.00524195,  0.01450062, -0.04410044, -0.02181934,\n",
       "          0.03966855,  0.03097904],\n",
       "        [ 0.00917978,  0.00851841,  0.03936671, -0.0490767 ,\n",
       "         -0.0207018 ,  0.04785177,  0.03466124, -0.00660922,\n",
       "          0.03372181, -0.02502224],\n",
       "        [-0.01114339, -0.0351304 ,  0.01394287,  0.02071014,\n",
       "          0.00938334, -0.04464309, -0.02627505,  0.0359919 ,\n",
       "         -0.03965783, -0.00221305]],\n",
       "\n",
       "       [[ 0.03373415, -0.02095252, -0.00086046,  0.03607135,\n",
       "         -0.02557394, -0.04508604, -0.01496794,  0.0170527 ,\n",
       "          0.02935232,  0.00843719],\n",
       "        [ 0.03373415, -0.02095252, -0.00086046,  0.03607135,\n",
       "         -0.02557394, -0.04508604, -0.01496794,  0.0170527 ,\n",
       "          0.02935232,  0.00843719],\n",
       "        [ 0.03373415, -0.02095252, -0.00086046,  0.03607135,\n",
       "         -0.02557394, -0.04508604, -0.01496794,  0.0170527 ,\n",
       "          0.02935232,  0.00843719],\n",
       "        [ 0.03373415, -0.02095252, -0.00086046,  0.03607135,\n",
       "         -0.02557394, -0.04508604, -0.01496794,  0.0170527 ,\n",
       "          0.02935232,  0.00843719],\n",
       "        [ 0.00684081, -0.02513783, -0.03628725, -0.03973955,\n",
       "         -0.02462511, -0.030447  ,  0.02541978,  0.03978659,\n",
       "         -0.04555942, -0.04340074],\n",
       "        [-0.01212946,  0.02105219,  0.04582388, -0.00628044,\n",
       "          0.00524195,  0.01450062, -0.04410044, -0.02181934,\n",
       "          0.03966855,  0.03097904],\n",
       "        [ 0.00917978,  0.00851841,  0.03936671, -0.0490767 ,\n",
       "         -0.0207018 ,  0.04785177,  0.03466124, -0.00660922,\n",
       "          0.03372181, -0.02502224],\n",
       "        [ 0.04233197, -0.00976714, -0.0037782 ,  0.02509618,\n",
       "          0.02060814, -0.03591241, -0.04105223, -0.02500434,\n",
       "          0.0092361 , -0.02792261]],\n",
       "\n",
       "       [[ 0.03373415, -0.02095252, -0.00086046,  0.03607135,\n",
       "         -0.02557394, -0.04508604, -0.01496794,  0.0170527 ,\n",
       "          0.02935232,  0.00843719],\n",
       "        [ 0.03373415, -0.02095252, -0.00086046,  0.03607135,\n",
       "         -0.02557394, -0.04508604, -0.01496794,  0.0170527 ,\n",
       "          0.02935232,  0.00843719],\n",
       "        [ 0.03373415, -0.02095252, -0.00086046,  0.03607135,\n",
       "         -0.02557394, -0.04508604, -0.01496794,  0.0170527 ,\n",
       "          0.02935232,  0.00843719],\n",
       "        [ 0.03373415, -0.02095252, -0.00086046,  0.03607135,\n",
       "         -0.02557394, -0.04508604, -0.01496794,  0.0170527 ,\n",
       "          0.02935232,  0.00843719],\n",
       "        [ 0.00684081, -0.02513783, -0.03628725, -0.03973955,\n",
       "         -0.02462511, -0.030447  ,  0.02541978,  0.03978659,\n",
       "         -0.04555942, -0.04340074],\n",
       "        [-0.04286711,  0.00642473, -0.04517759, -0.01167382,\n",
       "         -0.04274031, -0.04848541,  0.00737114,  0.00594846,\n",
       "          0.00080498, -0.03581476],\n",
       "        [ 0.00917978,  0.00851841,  0.03936671, -0.0490767 ,\n",
       "         -0.0207018 ,  0.04785177,  0.03466124, -0.00660922,\n",
       "          0.03372181, -0.02502224],\n",
       "        [-0.02845675,  0.00067306, -0.04007783,  0.02860669,\n",
       "          0.00886957,  0.02161762, -0.02978413,  0.02817036,\n",
       "          0.04453764,  0.0193258 ]],\n",
       "\n",
       "       [[ 0.03373415, -0.02095252, -0.00086046,  0.03607135,\n",
       "         -0.02557394, -0.04508604, -0.01496794,  0.0170527 ,\n",
       "          0.02935232,  0.00843719],\n",
       "        [ 0.03373415, -0.02095252, -0.00086046,  0.03607135,\n",
       "         -0.02557394, -0.04508604, -0.01496794,  0.0170527 ,\n",
       "          0.02935232,  0.00843719],\n",
       "        [ 0.03373415, -0.02095252, -0.00086046,  0.03607135,\n",
       "         -0.02557394, -0.04508604, -0.01496794,  0.0170527 ,\n",
       "          0.02935232,  0.00843719],\n",
       "        [ 0.02047653,  0.03250599, -0.02673259, -0.00016384,\n",
       "          0.02030952, -0.01335807,  0.03876345,  0.03730686,\n",
       "         -0.04395979,  0.02269543],\n",
       "        [-0.0141042 ,  0.03497053,  0.02924362, -0.04857141,\n",
       "         -0.037575  ,  0.03494008, -0.00069654, -0.00727295,\n",
       "         -0.00791826,  0.01589086],\n",
       "        [ 0.02773719, -0.01608113, -0.04887755,  0.01924122,\n",
       "          0.01960513, -0.04731936,  0.0270003 ,  0.00576706,\n",
       "         -0.03725797, -0.00467426],\n",
       "        [-0.00628576, -0.03417131,  0.02880118, -0.02168134,\n",
       "          0.01266507, -0.04791022,  0.01237933,  0.01788062,\n",
       "          0.04246247,  0.0388625 ],\n",
       "        [ 0.00121992,  0.01096185, -0.00979935,  0.01511717,\n",
       "         -0.03792634,  0.00684928, -0.04336087, -0.01149517,\n",
       "          0.04245446,  0.01332995]],\n",
       "\n",
       "       [[ 0.03373415, -0.02095252, -0.00086046,  0.03607135,\n",
       "         -0.02557394, -0.04508604, -0.01496794,  0.0170527 ,\n",
       "          0.02935232,  0.00843719],\n",
       "        [ 0.03373415, -0.02095252, -0.00086046,  0.03607135,\n",
       "         -0.02557394, -0.04508604, -0.01496794,  0.0170527 ,\n",
       "          0.02935232,  0.00843719],\n",
       "        [ 0.03373415, -0.02095252, -0.00086046,  0.03607135,\n",
       "         -0.02557394, -0.04508604, -0.01496794,  0.0170527 ,\n",
       "          0.02935232,  0.00843719],\n",
       "        [ 0.02047653,  0.03250599, -0.02673259, -0.00016384,\n",
       "          0.02030952, -0.01335807,  0.03876345,  0.03730686,\n",
       "         -0.04395979,  0.02269543],\n",
       "        [-0.0141042 ,  0.03497053,  0.02924362, -0.04857141,\n",
       "         -0.037575  ,  0.03494008, -0.00069654, -0.00727295,\n",
       "         -0.00791826,  0.01589086],\n",
       "        [ 0.02773719, -0.01608113, -0.04887755,  0.01924122,\n",
       "          0.01960513, -0.04731936,  0.0270003 ,  0.00576706,\n",
       "         -0.03725797, -0.00467426],\n",
       "        [-0.00628576, -0.03417131,  0.02880118, -0.02168134,\n",
       "          0.01266507, -0.04791022,  0.01237933,  0.01788062,\n",
       "          0.04246247,  0.0388625 ],\n",
       "        [-0.02791416,  0.0295742 , -0.02709413,  0.02419677,\n",
       "          0.04217351,  0.027527  , -0.03209534,  0.04948601,\n",
       "          0.02333922,  0.03357773]],\n",
       "\n",
       "       [[ 0.03373415, -0.02095252, -0.00086046,  0.03607135,\n",
       "         -0.02557394, -0.04508604, -0.01496794,  0.0170527 ,\n",
       "          0.02935232,  0.00843719],\n",
       "        [ 0.03373415, -0.02095252, -0.00086046,  0.03607135,\n",
       "         -0.02557394, -0.04508604, -0.01496794,  0.0170527 ,\n",
       "          0.02935232,  0.00843719],\n",
       "        [ 0.03373415, -0.02095252, -0.00086046,  0.03607135,\n",
       "         -0.02557394, -0.04508604, -0.01496794,  0.0170527 ,\n",
       "          0.02935232,  0.00843719],\n",
       "        [ 0.04502303,  0.03600106, -0.00264307,  0.03588308,\n",
       "          0.01190836, -0.01853513, -0.04323834,  0.00593645,\n",
       "          0.04905123, -0.01766747],\n",
       "        [ 0.00684081, -0.02513783, -0.03628725, -0.03973955,\n",
       "         -0.02462511, -0.030447  ,  0.02541978,  0.03978659,\n",
       "         -0.04555942, -0.04340074],\n",
       "        [ 0.04689291,  0.04529579, -0.01850415, -0.04600501,\n",
       "          0.01968494, -0.011855  , -0.01408956, -0.00484611,\n",
       "          0.00616471, -0.03437413],\n",
       "        [ 0.00917978,  0.00851841,  0.03936671, -0.0490767 ,\n",
       "         -0.0207018 ,  0.04785177,  0.03466124, -0.00660922,\n",
       "          0.03372181, -0.02502224],\n",
       "        [ 0.02444252, -0.04662273, -0.0057708 ,  0.02764213,\n",
       "          0.00739877,  0.00757463,  0.03540461, -0.03151818,\n",
       "         -0.01817899, -0.00906742]],\n",
       "\n",
       "       [[ 0.03373415, -0.02095252, -0.00086046,  0.03607135,\n",
       "         -0.02557394, -0.04508604, -0.01496794,  0.0170527 ,\n",
       "          0.02935232,  0.00843719],\n",
       "        [ 0.03373415, -0.02095252, -0.00086046,  0.03607135,\n",
       "         -0.02557394, -0.04508604, -0.01496794,  0.0170527 ,\n",
       "          0.02935232,  0.00843719],\n",
       "        [ 0.03373415, -0.02095252, -0.00086046,  0.03607135,\n",
       "         -0.02557394, -0.04508604, -0.01496794,  0.0170527 ,\n",
       "          0.02935232,  0.00843719],\n",
       "        [ 0.03373415, -0.02095252, -0.00086046,  0.03607135,\n",
       "         -0.02557394, -0.04508604, -0.01496794,  0.0170527 ,\n",
       "          0.02935232,  0.00843719],\n",
       "        [ 0.00703513, -0.02648714,  0.00492283, -0.0174624 ,\n",
       "         -0.02182598, -0.04303299,  0.03908542,  0.00047916,\n",
       "          0.00801514, -0.0235654 ],\n",
       "        [ 0.01156843,  0.00038507, -0.01683857,  0.02836827,\n",
       "          0.02847235,  0.01862725,  0.00086699, -0.03873431,\n",
       "         -0.0115997 ,  0.01341896],\n",
       "        [-0.02899028,  0.04452676, -0.01509904, -0.04246532,\n",
       "          0.02035004, -0.00597701, -0.0034324 ,  0.03795793,\n",
       "         -0.04778662, -0.02131778],\n",
       "        [-0.00628576, -0.03417131,  0.02880118, -0.02168134,\n",
       "          0.01266507, -0.04791022,  0.01237933,  0.01788062,\n",
       "          0.04246247,  0.0388625 ]]], dtype=float32)"
      ]
     },
     "execution_count": 28,
     "metadata": {},
     "output_type": "execute_result"
    }
   ],
   "source": [
    "model.predict(embedded_docs)"
   ]
  },
  {
   "cell_type": "code",
   "execution_count": 29,
   "metadata": {},
   "outputs": [
    {
     "data": {
      "text/plain": [
       "array([   0,    0,    0,    0, 9964,  855, 2498, 1223], dtype=int32)"
      ]
     },
     "execution_count": 29,
     "metadata": {},
     "output_type": "execute_result"
    }
   ],
   "source": [
    "embedded_docs[0]"
   ]
  },
  {
   "cell_type": "code",
   "execution_count": 34,
   "metadata": {},
   "outputs": [
    {
     "ename": "ValueError",
     "evalue": "Exception encountered when calling Sequential.call().\n\n\u001b[1mCannot take the length of shape with unknown rank.\u001b[0m\n\nArguments received by Sequential.call():\n  • inputs=tf.Tensor(shape=<unknown>, dtype=int32)\n  • training=False\n  • mask=None",
     "output_type": "error",
     "traceback": [
      "\u001b[31m---------------------------------------------------------------------------\u001b[39m",
      "\u001b[31mValueError\u001b[39m                                Traceback (most recent call last)",
      "\u001b[36mCell\u001b[39m\u001b[36m \u001b[39m\u001b[32mIn[34]\u001b[39m\u001b[32m, line 1\u001b[39m\n\u001b[32m----> \u001b[39m\u001b[32m1\u001b[39m \u001b[43mmodel\u001b[49m\u001b[43m.\u001b[49m\u001b[43mpredict\u001b[49m\u001b[43m(\u001b[49m\u001b[43membedded_docs\u001b[49m\u001b[43m[\u001b[49m\u001b[32;43m0\u001b[39;49m\u001b[43m]\u001b[49m\u001b[43m)\u001b[49m\n",
      "\u001b[36mFile \u001b[39m\u001b[32me:\\projects\\imdb_movie_classification_RNN\\venv\\Lib\\site-packages\\keras\\src\\utils\\traceback_utils.py:122\u001b[39m, in \u001b[36mfilter_traceback.<locals>.error_handler\u001b[39m\u001b[34m(*args, **kwargs)\u001b[39m\n\u001b[32m    119\u001b[39m     filtered_tb = _process_traceback_frames(e.__traceback__)\n\u001b[32m    120\u001b[39m     \u001b[38;5;66;03m# To get the full stack trace, call:\u001b[39;00m\n\u001b[32m    121\u001b[39m     \u001b[38;5;66;03m# `keras.config.disable_traceback_filtering()`\u001b[39;00m\n\u001b[32m--> \u001b[39m\u001b[32m122\u001b[39m     \u001b[38;5;28;01mraise\u001b[39;00m e.with_traceback(filtered_tb) \u001b[38;5;28;01mfrom\u001b[39;00m\u001b[38;5;250m \u001b[39m\u001b[38;5;28;01mNone\u001b[39;00m\n\u001b[32m    123\u001b[39m \u001b[38;5;28;01mfinally\u001b[39;00m:\n\u001b[32m    124\u001b[39m     \u001b[38;5;28;01mdel\u001b[39;00m filtered_tb\n",
      "\u001b[36mFile \u001b[39m\u001b[32me:\\projects\\imdb_movie_classification_RNN\\venv\\Lib\\site-packages\\keras\\src\\utils\\traceback_utils.py:122\u001b[39m, in \u001b[36mfilter_traceback.<locals>.error_handler\u001b[39m\u001b[34m(*args, **kwargs)\u001b[39m\n\u001b[32m    119\u001b[39m     filtered_tb = _process_traceback_frames(e.__traceback__)\n\u001b[32m    120\u001b[39m     \u001b[38;5;66;03m# To get the full stack trace, call:\u001b[39;00m\n\u001b[32m    121\u001b[39m     \u001b[38;5;66;03m# `keras.config.disable_traceback_filtering()`\u001b[39;00m\n\u001b[32m--> \u001b[39m\u001b[32m122\u001b[39m     \u001b[38;5;28;01mraise\u001b[39;00m e.with_traceback(filtered_tb) \u001b[38;5;28;01mfrom\u001b[39;00m\u001b[38;5;250m \u001b[39m\u001b[38;5;28;01mNone\u001b[39;00m\n\u001b[32m    123\u001b[39m \u001b[38;5;28;01mfinally\u001b[39;00m:\n\u001b[32m    124\u001b[39m     \u001b[38;5;28;01mdel\u001b[39;00m filtered_tb\n",
      "\u001b[31mValueError\u001b[39m: Exception encountered when calling Sequential.call().\n\n\u001b[1mCannot take the length of shape with unknown rank.\u001b[0m\n\nArguments received by Sequential.call():\n  • inputs=tf.Tensor(shape=<unknown>, dtype=int32)\n  • training=False\n  • mask=None"
     ]
    }
   ],
   "source": [
    "model.predict(embedded_docs[0])"
   ]
  },
  {
   "cell_type": "code",
   "execution_count": null,
   "metadata": {},
   "outputs": [],
   "source": []
  }
 ],
 "metadata": {
  "kernelspec": {
   "display_name": "venv",
   "language": "python",
   "name": "python3"
  },
  "language_info": {
   "codemirror_mode": {
    "name": "ipython",
    "version": 3
   },
   "file_extension": ".py",
   "mimetype": "text/x-python",
   "name": "python",
   "nbconvert_exporter": "python",
   "pygments_lexer": "ipython3",
   "version": "3.12.8"
  }
 },
 "nbformat": 4,
 "nbformat_minor": 2
}
